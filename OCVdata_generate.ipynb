{
 "cells": [
  {
   "cell_type": "code",
   "execution_count": 1,
   "id": "d16b7db2",
   "metadata": {},
   "outputs": [],
   "source": [
    "import numpy as np\n",
    "import cv2 \n",
    "import os\n",
    "import matplotlib.pyplot as plt\n",
    "from pylab import *\n",
    "from keras.preprocessing import image as ksimg"
   ]
  },
  {
   "cell_type": "code",
   "execution_count": null,
   "id": "065ec123",
   "metadata": {},
   "outputs": [],
   "source": [
    "img_path='./Dataset/OK/D_bts1053209-00-a_q1026_1479.jpg'"
   ]
  },
  {
   "cell_type": "code",
   "execution_count": null,
   "id": "83f26ac7",
   "metadata": {},
   "outputs": [],
   "source": []
  }
 ],
 "metadata": {
  "kernelspec": {
   "display_name": "Python 3 (ipykernel)",
   "language": "python",
   "name": "python3"
  },
  "language_info": {
   "codemirror_mode": {
    "name": "ipython",
    "version": 3
   },
   "file_extension": ".py",
   "mimetype": "text/x-python",
   "name": "python",
   "nbconvert_exporter": "python",
   "pygments_lexer": "ipython3",
   "version": "3.7.13"
  }
 },
 "nbformat": 4,
 "nbformat_minor": 5
}
