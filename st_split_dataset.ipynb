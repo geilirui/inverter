{
 "cells": [
  {
   "cell_type": "code",
   "execution_count": 2,
   "metadata": {
    "collapsed": true
   },
   "outputs": [],
   "source": [
    "import os,shutil"
   ]
  },
  {
   "cell_type": "code",
   "execution_count": 3,
   "metadata": {
    "collapsed": true
   },
   "outputs": [],
   "source": [
    "from PIL import Image"
   ]
  },
  {
   "cell_type": "code",
   "execution_count": 4,
   "metadata": {
    "collapsed": true
   },
   "outputs": [],
   "source": [
    "original_ok_dir='./datasets/ok/'\n",
    "original_ng_dir='./datasets/ng/'"
   ]
  },
  {
   "cell_type": "code",
   "execution_count": 5,
   "metadata": {
    "collapsed": true
   },
   "outputs": [],
   "source": [
    "base_dir='./datasets/'"
   ]
  },
  {
   "cell_type": "markdown",
   "metadata": {},
   "source": [
    "# 建立目录"
   ]
  },
  {
   "cell_type": "code",
   "execution_count": 6,
   "metadata": {},
   "outputs": [],
   "source": [
    "train_dir=os.path.join(base_dir,'train')\n",
    "if not os.path.exists(train_dir):\n",
    "    os.mkdir(train_dir)\n",
    "validaiton_dir=os.path.join(base_dir,'validation')\n",
    "if not os.path.exists(validaiton_dir):\n",
    "    os.mkdir(validaiton_dir)\n",
    "test_dir=os.path.join(base_dir,'test')\n",
    "if not os.path.exists(test_dir):\n",
    "    os.mkdir(test_dir)"
   ]
  },
  {
   "cell_type": "code",
   "execution_count": 7,
   "metadata": {
    "collapsed": true
   },
   "outputs": [],
   "source": [
    "train_ok_dir=os.path.join(train_dir,'ok')\n",
    "if not os.path.exists(train_ok_dir):\n",
    " os.mkdir(train_ok_dir)\n",
    "train_ng_dir=os.path.join(train_dir,'ng')\n",
    "if not os.path.exists(train_ng_dir):\n",
    " os.mkdir(train_ng_dir)\n",
    "val_ok_dir=os.path.join(validaiton_dir,'ok')\n",
    "if not os.path.exists(val_ok_dir):\n",
    " os.mkdir(val_ok_dir)\n",
    "val_ng_dir=os.path.join(validaiton_dir,'ng')\n",
    "if not os.path.exists(val_ng_dir):\n",
    " os.mkdir(val_ng_dir)\n",
    "test_ok_dir=os.path.join(test_dir,'ok')\n",
    "if not os.path.exists(test_ok_dir):\n",
    " os.mkdir(test_ok_dir)\n",
    "test_ng_dir=os.path.join(test_dir,'ng')\n",
    "if not os.path.exists(test_ng_dir):\n",
    " os.mkdir(test_ng_dir)"
   ]
  },
  {
   "cell_type": "code",
   "execution_count": 8,
   "metadata": {
    "collapsed": true
   },
   "outputs": [],
   "source": [
    "ok_file_list=os.listdir(original_ok_dir)\n",
    "ng_file_list=os.listdir(original_ng_dir)"
   ]
  },
  {
   "cell_type": "code",
   "execution_count": 9,
   "metadata": {
    "collapsed": true
   },
   "outputs": [],
   "source": [
    "import random\n",
    "random.shuffle(ok_file_list)\n",
    "random.shuffle(ng_file_list)"
   ]
  },
  {
   "cell_type": "markdown",
   "metadata": {},
   "source": [
    "# 比例及数据划分"
   ]
  },
  {
   "cell_type": "code",
   "execution_count": 10,
   "metadata": {
    "collapsed": true
   },
   "outputs": [],
   "source": [
    "train_rate=0.7\n",
    "test_rate=0.1\n",
    "val_rate=0.2\n",
    "#训练集\n",
    "for i in range(int(len(ok_file_list)*train_rate)): \n",
    "    train_ok_src=os.path.join(original_ok_dir,ok_file_list[i])\n",
    "    train_ok_dst=os.path.join(train_ok_dir,ok_file_list[i])\n",
    "    shutil.copyfile(train_ok_src,train_ok_dst)\n",
    "for i in range(int(len(ng_file_list)*train_rate)): \n",
    "    train_ng_src=os.path.join(original_ng_dir,ng_file_list[i])\n",
    "    train_ng_dst=os.path.join(train_ng_dir,ng_file_list[i])\n",
    "    shutil.copyfile(train_ng_src,train_ng_dst)\n",
    "#验证集\n",
    "for i in range(int(len(ok_file_list)*train_rate),int(len(ok_file_list)*train_rate)+int(len(ok_file_list)*val_rate)): \n",
    "    val_ok_src=os.path.join(original_ok_dir,ok_file_list[i])\n",
    "    val_ok_dst=os.path.join(val_ok_dir,ok_file_list[i])\n",
    "    shutil.copyfile(val_ok_src,val_ok_dst)\n",
    "for i in range(int(len(ng_file_list)*train_rate),int(len(ng_file_list)*train_rate)+int(len(ng_file_list)*val_rate)): \n",
    "    val_ng_src=os.path.join(original_ng_dir,ng_file_list[i])\n",
    "    val_ng_dst=os.path.join(val_ng_dir,ng_file_list[i])\n",
    "    shutil.copyfile(val_ng_src,val_ng_dst)\n",
    "#测试集\n",
    "for i in range(int(len(ok_file_list)*train_rate)+int(len(ok_file_list)*val_rate),len(ok_file_list)): \n",
    "    test_ok_src=os.path.join(original_ok_dir,ok_file_list[i])\n",
    "    test_ok_dst=os.path.join(test_ok_dir,ok_file_list[i])\n",
    "    shutil.copyfile(test_ok_src,test_ok_dst)\n",
    "for i in range(int(len(ng_file_list)*train_rate)+int(len(ng_file_list)*val_rate),len(ng_file_list)): \n",
    "    test_ng_src=os.path.join(original_ng_dir,ng_file_list[i])\n",
    "    test_ng_dst=os.path.join(test_ng_dir,ng_file_list[i])\n",
    "    shutil.copyfile(test_ng_src,test_ng_dst)"
   ]
  },
  {
   "cell_type": "markdown",
   "metadata": {},
   "source": [
    "# BMP转jpg"
   ]
  },
  {
   "cell_type": "code",
   "execution_count": 12,
   "metadata": {
    "collapsed": true
   },
   "outputs": [],
   "source": [
    "ok_lst=os.listdir(r'F:\\st_vgg\\20220421_OK\\20220421_OK\\C2_SB_OK')"
   ]
  },
  {
   "cell_type": "code",
   "execution_count": 17,
   "metadata": {
    "collapsed": true
   },
   "outputs": [],
   "source": [
    "for i in range(len(ok_lst)):\n",
    "    img = Image.open('F:/st_vgg/20220421_OK/20220421_OK/C2_SB_OK/'+ok_lst[i])\n",
    "    origin_img=ok_lst[i]\n",
    "    convert_img = origin_img[:-4] + '.jpg'\n",
    "    img.save('./datasets/ok/'+convert_img)"
   ]
  },
  {
   "cell_type": "code",
   "execution_count": 11,
   "metadata": {
    "collapsed": true
   },
   "outputs": [],
   "source": [
    "ng_lst=os.listdir(r'F:\\st_vgg\\defect_sample\\blue\\ng_broken')"
   ]
  },
  {
   "cell_type": "code",
   "execution_count": 12,
   "metadata": {
    "collapsed": true
   },
   "outputs": [],
   "source": [
    "for i in range(len(ng_lst)):\n",
    "    img = Image.open('F:/st_vgg/defect_sample/blue/ng_broken/'+ng_lst[i])\n",
    "    origin_img=ng_lst[i]\n",
    "    convert_img = origin_img[:-4] + '.jpg'\n",
    "    img.save('./datasets/ng/'+convert_img)"
   ]
  },
  {
   "cell_type": "code",
   "execution_count": null,
   "metadata": {
    "collapsed": true
   },
   "outputs": [],
   "source": []
  }
 ],
 "metadata": {
  "kernelspec": {
   "display_name": "Python 3 (ipykernel)",
   "language": "python",
   "name": "python3"
  },
  "language_info": {
   "codemirror_mode": {
    "name": "ipython",
    "version": 3
   },
   "file_extension": ".py",
   "mimetype": "text/x-python",
   "name": "python",
   "nbconvert_exporter": "python",
   "pygments_lexer": "ipython3",
   "version": "3.7.13"
  }
 },
 "nbformat": 4,
 "nbformat_minor": 2
}
